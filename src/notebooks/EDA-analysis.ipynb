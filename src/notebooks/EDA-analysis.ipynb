{
 "cells": [
  {
   "cell_type": "code",
   "execution_count": 9,
   "metadata": {},
   "outputs": [],
   "source": [
    "import os\n",
    "import pandas as pd\n",
    "import matplotlib.pyplot as plt\n",
    "import seaborn as sns"
   ]
  },
  {
   "cell_type": "code",
   "execution_count": 10,
   "metadata": {},
   "outputs": [],
   "source": [
    "df = pd.read_csv(\"../data/benin-malanville.csv\")"
   ]
  },
  {
   "cell_type": "code",
   "execution_count": null,
   "metadata": {},
   "outputs": [],
   "source": [
    "print(df.head())"
   ]
  },
  {
   "cell_type": "code",
   "execution_count": null,
   "metadata": {},
   "outputs": [],
   "source": [
    "df.info()"
   ]
  },
  {
   "cell_type": "code",
   "execution_count": null,
   "metadata": {},
   "outputs": [],
   "source": [
    "#statistics Summary\n",
    "#the mean, median, standard deviation, and other statistical measures\n",
    "\n",
    "stat_summary = df.describe()\n",
    "print(stat_summary)"
   ]
  },
  {
   "cell_type": "code",
   "execution_count": null,
   "metadata": {},
   "outputs": [],
   "source": [
    "# Data Quality Check and Data Cleaning\n",
    "\n",
    "# looking missing values\n",
    "missing_data = df.isnull().sum()\n",
    "print(missing_data)\n",
    "\n",
    "# negative values\n",
    "negative_values = df[df.select_dtypes(include='number') < 0]\n",
    "if not negative_values.empty:\n",
    "    print(\"Negative values found:\")\n",
    "    print(negative_values)\n",
    "\n",
    "#looking for outliers iteratevely\n",
    "for col in df.select_dtypes(include='number').columns:\n",
    "    std_dev = df[col].std()\n",
    "    mean = df[col].mean()\n",
    "    outliers = df[(df[col] > mean + 3 * std_dev) | (df[col] < mean - 3 * std_dev)]\n",
    "    if not outliers.empty:\n",
    "        print(f\"Outliers found in {col}:\")\n",
    "        print(outliers)"
   ]
  },
  {
   "cell_type": "code",
   "execution_count": null,
   "metadata": {},
   "outputs": [],
   "source": [
    "# Timestamp column into and set it as the index\n",
    "df['Timestamp'] = pd.to_datetime(df['Timestamp'])\n",
    "df.set_index('Timestamp' , inplace = True )"
   ]
  },
  {
   "cell_type": "code",
   "execution_count": 12,
   "metadata": {},
   "outputs": [
    {
     "ename": "KeyError",
     "evalue": "'Timestamp'",
     "output_type": "error",
     "traceback": [
      "\u001b[0;31m---------------------------------------------------------------------------\u001b[0m",
      "\u001b[0;31mKeyError\u001b[0m                                  Traceback (most recent call last)",
      "File \u001b[0;32m~/workspace/aim/solar-radiation-insights/env/lib/python3.10/site-packages/pandas/core/indexes/base.py:3805\u001b[0m, in \u001b[0;36mIndex.get_loc\u001b[0;34m(self, key)\u001b[0m\n\u001b[1;32m   3804\u001b[0m \u001b[38;5;28;01mtry\u001b[39;00m:\n\u001b[0;32m-> 3805\u001b[0m     \u001b[38;5;28;01mreturn\u001b[39;00m \u001b[38;5;28;43mself\u001b[39;49m\u001b[38;5;241;43m.\u001b[39;49m\u001b[43m_engine\u001b[49m\u001b[38;5;241;43m.\u001b[39;49m\u001b[43mget_loc\u001b[49m\u001b[43m(\u001b[49m\u001b[43mcasted_key\u001b[49m\u001b[43m)\u001b[49m\n\u001b[1;32m   3806\u001b[0m \u001b[38;5;28;01mexcept\u001b[39;00m \u001b[38;5;167;01mKeyError\u001b[39;00m \u001b[38;5;28;01mas\u001b[39;00m err:\n",
      "File \u001b[0;32mindex.pyx:167\u001b[0m, in \u001b[0;36mpandas._libs.index.IndexEngine.get_loc\u001b[0;34m()\u001b[0m\n",
      "File \u001b[0;32mindex.pyx:196\u001b[0m, in \u001b[0;36mpandas._libs.index.IndexEngine.get_loc\u001b[0;34m()\u001b[0m\n",
      "File \u001b[0;32mpandas/_libs/hashtable_class_helper.pxi:7081\u001b[0m, in \u001b[0;36mpandas._libs.hashtable.PyObjectHashTable.get_item\u001b[0;34m()\u001b[0m\n",
      "File \u001b[0;32mpandas/_libs/hashtable_class_helper.pxi:7089\u001b[0m, in \u001b[0;36mpandas._libs.hashtable.PyObjectHashTable.get_item\u001b[0;34m()\u001b[0m\n",
      "\u001b[0;31mKeyError\u001b[0m: 'Timestamp'",
      "\nThe above exception was the direct cause of the following exception:\n",
      "\u001b[0;31mKeyError\u001b[0m                                  Traceback (most recent call last)",
      "Cell \u001b[0;32mIn[12], line 4\u001b[0m\n\u001b[1;32m      1\u001b[0m \u001b[38;5;66;03m# Time Series Analysis\u001b[39;00m\n\u001b[1;32m      2\u001b[0m \u001b[38;5;66;03m#Time Series Analysis: Analyze how variables like GHI, DNI, DHI, and Tamb\u001b[39;00m\n\u001b[0;32m----> 4\u001b[0m df[\u001b[38;5;124m'\u001b[39m\u001b[38;5;124mTimestamp\u001b[39m\u001b[38;5;124m'\u001b[39m] \u001b[38;5;241m=\u001b[39m pd\u001b[38;5;241m.\u001b[39mto_datetime(\u001b[43mdf\u001b[49m\u001b[43m[\u001b[49m\u001b[38;5;124;43m'\u001b[39;49m\u001b[38;5;124;43mTimestamp\u001b[39;49m\u001b[38;5;124;43m'\u001b[39;49m\u001b[43m]\u001b[49m)\n\u001b[1;32m      5\u001b[0m df\u001b[38;5;241m.\u001b[39mset_index(\u001b[38;5;124m'\u001b[39m\u001b[38;5;124mTimestamp\u001b[39m\u001b[38;5;124m'\u001b[39m , inplace \u001b[38;5;241m=\u001b[39m \u001b[38;5;28;01mTrue\u001b[39;00m )\n\u001b[1;32m      7\u001b[0m variables \u001b[38;5;241m=\u001b[39m [\u001b[38;5;124m'\u001b[39m\u001b[38;5;124mGHI\u001b[39m\u001b[38;5;124m'\u001b[39m, \u001b[38;5;124m'\u001b[39m\u001b[38;5;124mDNI\u001b[39m\u001b[38;5;124m'\u001b[39m, \u001b[38;5;124m'\u001b[39m\u001b[38;5;124mDHI\u001b[39m\u001b[38;5;124m'\u001b[39m, \u001b[38;5;124m'\u001b[39m\u001b[38;5;124mTamb\u001b[39m\u001b[38;5;124m'\u001b[39m]\n",
      "File \u001b[0;32m~/workspace/aim/solar-radiation-insights/env/lib/python3.10/site-packages/pandas/core/frame.py:4102\u001b[0m, in \u001b[0;36mDataFrame.__getitem__\u001b[0;34m(self, key)\u001b[0m\n\u001b[1;32m   4100\u001b[0m \u001b[38;5;28;01mif\u001b[39;00m \u001b[38;5;28mself\u001b[39m\u001b[38;5;241m.\u001b[39mcolumns\u001b[38;5;241m.\u001b[39mnlevels \u001b[38;5;241m>\u001b[39m \u001b[38;5;241m1\u001b[39m:\n\u001b[1;32m   4101\u001b[0m     \u001b[38;5;28;01mreturn\u001b[39;00m \u001b[38;5;28mself\u001b[39m\u001b[38;5;241m.\u001b[39m_getitem_multilevel(key)\n\u001b[0;32m-> 4102\u001b[0m indexer \u001b[38;5;241m=\u001b[39m \u001b[38;5;28;43mself\u001b[39;49m\u001b[38;5;241;43m.\u001b[39;49m\u001b[43mcolumns\u001b[49m\u001b[38;5;241;43m.\u001b[39;49m\u001b[43mget_loc\u001b[49m\u001b[43m(\u001b[49m\u001b[43mkey\u001b[49m\u001b[43m)\u001b[49m\n\u001b[1;32m   4103\u001b[0m \u001b[38;5;28;01mif\u001b[39;00m is_integer(indexer):\n\u001b[1;32m   4104\u001b[0m     indexer \u001b[38;5;241m=\u001b[39m [indexer]\n",
      "File \u001b[0;32m~/workspace/aim/solar-radiation-insights/env/lib/python3.10/site-packages/pandas/core/indexes/base.py:3812\u001b[0m, in \u001b[0;36mIndex.get_loc\u001b[0;34m(self, key)\u001b[0m\n\u001b[1;32m   3807\u001b[0m     \u001b[38;5;28;01mif\u001b[39;00m \u001b[38;5;28misinstance\u001b[39m(casted_key, \u001b[38;5;28mslice\u001b[39m) \u001b[38;5;129;01mor\u001b[39;00m (\n\u001b[1;32m   3808\u001b[0m         \u001b[38;5;28misinstance\u001b[39m(casted_key, abc\u001b[38;5;241m.\u001b[39mIterable)\n\u001b[1;32m   3809\u001b[0m         \u001b[38;5;129;01mand\u001b[39;00m \u001b[38;5;28many\u001b[39m(\u001b[38;5;28misinstance\u001b[39m(x, \u001b[38;5;28mslice\u001b[39m) \u001b[38;5;28;01mfor\u001b[39;00m x \u001b[38;5;129;01min\u001b[39;00m casted_key)\n\u001b[1;32m   3810\u001b[0m     ):\n\u001b[1;32m   3811\u001b[0m         \u001b[38;5;28;01mraise\u001b[39;00m InvalidIndexError(key)\n\u001b[0;32m-> 3812\u001b[0m     \u001b[38;5;28;01mraise\u001b[39;00m \u001b[38;5;167;01mKeyError\u001b[39;00m(key) \u001b[38;5;28;01mfrom\u001b[39;00m \u001b[38;5;21;01merr\u001b[39;00m\n\u001b[1;32m   3813\u001b[0m \u001b[38;5;28;01mexcept\u001b[39;00m \u001b[38;5;167;01mTypeError\u001b[39;00m:\n\u001b[1;32m   3814\u001b[0m     \u001b[38;5;66;03m# If we have a listlike key, _check_indexing_error will raise\u001b[39;00m\n\u001b[1;32m   3815\u001b[0m     \u001b[38;5;66;03m#  InvalidIndexError. Otherwise we fall through and re-raise\u001b[39;00m\n\u001b[1;32m   3816\u001b[0m     \u001b[38;5;66;03m#  the TypeError.\u001b[39;00m\n\u001b[1;32m   3817\u001b[0m     \u001b[38;5;28mself\u001b[39m\u001b[38;5;241m.\u001b[39m_check_indexing_error(key)\n",
      "\u001b[0;31mKeyError\u001b[0m: 'Timestamp'"
     ]
    }
   ],
   "source": [
    "# Time Series Analysis\n",
    "#Time Series Analysis: Analyze how variables like GHI, DNI, DHI, and Tamb\n",
    "\n",
    "variables = ['GHI', 'DNI', 'DHI', 'Tamb']\n",
    "\n",
    "num_plots = len(variables)\n",
    "fig, axes = plt.subplots(nrows=num_plots, ncols=2, figsize=(8, 6))\n",
    "\n",
    "#iterate over variables to be plotted\n",
    "for i, var in enumerate(variables):\n",
    "    sns.lineplot(x=df.index, y=var, data=df, ax=axes[i])\n",
    "    axes[i].set_title(f'{var} over Time')\n",
    "    axes[i].set_xlabel('Timestamp')\n",
    "    axes[i].set_ylabel('Value')\n",
    "\n",
    "plt.tight_layout()\n",
    "plt.show()\n"
   ]
  },
  {
   "cell_type": "code",
   "execution_count": null,
   "metadata": {},
   "outputs": [],
   "source": [
    "#correlation Analysis\n",
    "#Determine the correlation between different\n",
    "# variables like solar radiation components (GHI, DHI, DNI) and temperature\n",
    "# measures (TModA, TModB) to uncover relationships.\n",
    "\n",
    "correlation_matrix = df.corr()\n",
    "\n",
    "# Print correlation matrix\n",
    "print(\"Correlation Matrix:\")\n",
    "print(correlation_matrix)"
   ]
  },
  {
   "cell_type": "code",
   "execution_count": null,
   "metadata": {},
   "outputs": [],
   "source": [
    "plt.figure(figsize=(10, 8))\n",
    "sns.heatmap(correlation_matrix, annot=True, cmap='coolwarm', fmt=\".2f\", square=True)\n",
    "plt.title('Correlation Matrix')\n",
    "plt.show()"
   ]
  },
  {
   "cell_type": "code",
   "execution_count": null,
   "metadata": {},
   "outputs": [],
   "source": [
    "# Wind Analysis\n",
    "# Explore wind speed (WS, WSgust, WSstdev) \n",
    "# and wind direction (WD, WDstdev) data \n",
    "\n",
    "wind_speed_columns = ['WS', 'WSgust', 'WSstdev']\n",
    "plt.figure(figsize=(8, 5))\n",
    "\n",
    "for col in wind_speed_columns:\n",
    "    sns.histplot(df[col], bins=20, kde=True, label=col)\n",
    "\n",
    "    \n",
    "plt.title('Distribution of Wind Speed')\n",
    "plt.xlabel('Wind Speed in m/s')\n",
    "plt.ylabel('Frequency')\n",
    "plt.legend()\n",
    "plt.show()\n",
    "\n",
    "# Wind Direction Analysis\n",
    "plt.figure(figsize=(8, 5))\n",
    "sns.lineplot(x='Timestamp', y='WD', data=df)\n",
    "plt.title('Wind Direction over Time')\n",
    "plt.xlabel('Timestamp')\n",
    "plt.ylabel('Wind Direction (°)')\n",
    "plt.show()\n",
    "\n",
    "# Wind Speed vs. Wind Direction Analysis\n",
    "plt.figure(figsize=(6, 4))\n",
    "sns.scatterplot(x='WD', y='WS', data=df)\n",
    "plt.title('Wind Speed vs Wind Direction')\n",
    "plt.xlabel('Wind Direction (°)')\n",
    "plt.ylabel('Wind Speed in m/s')\n",
    "plt.show()"
   ]
  },
  {
   "cell_type": "code",
   "execution_count": null,
   "metadata": {},
   "outputs": [],
   "source": [
    "# Downsampling the data\n",
    "\n",
    "resampling_frequency = 'D'\n",
    "downsampled_data = df.resample(resampling_frequency).mean()  \n",
    "print(downsampled_data)"
   ]
  },
  {
   "cell_type": "code",
   "execution_count": null,
   "metadata": {},
   "outputs": [],
   "source": [
    "# Temperature Analysis: \n",
    "\n",
    "#Compare module temperatures (TModA, TModB)\n",
    "# with ambient temperature (Tamb) to see how they are related or vary\n",
    "# under different conditions.\n",
    "\n",
    "# we will use the down sampled data to minimize the runtime\n",
    "temperature_data = downsampled_data[['Tamb', 'TModA', 'TModB']]\n",
    "\n",
    "# Temperature Analysis\n",
    "plt.figure(figsize=(8, 4))\n",
    "sns.lineplot(x='Timestamp', y='Tamb', data=temperature_data, label='Ambient Temperature')\n",
    "sns.lineplot(x='Timestamp', y='TModA', data=temperature_data, label='Module A Temperature')\n",
    "sns.lineplot(x='Timestamp', y='TModB', data=temperature_data, label='Module B Temperature')\n",
    "plt.title('Temperature Analysis')\n",
    "plt.xlabel('Timestamp')\n",
    "plt.ylabel('Temperature (°C)')\n",
    "plt.legend()\n",
    "plt.show()\n",
    "\n",
    "# Temperature Comparison\n",
    "plt.figure(figsize=(6, 4))\n",
    "sns.scatterplot(x='Tamb', y='TModA', data=temperature_data, label='Module A')\n",
    "sns.scatterplot(x='Tamb', y='TModB', data=temperature_data, label='Module B')\n",
    "plt.title('Temperature Comparison')\n",
    "plt.xlabel('Ambient Temperature (°C)')\n",
    "plt.ylabel('Module Temperature (°C)')\n",
    "plt.legend()\n",
    "plt.show()\n",
    "\n",
    "# Correlation Analysis\n",
    "correlation_matrix = temperature_data[['Tamb', 'TModA', 'TModB']].corr()\n",
    "print(\"Correlation Matrix:\")\n",
    "print(correlation_matrix)"
   ]
  },
  {
   "cell_type": "code",
   "execution_count": null,
   "metadata": {},
   "outputs": [],
   "source": [
    "# Histograms: histograms for variables like GHI, DNI, DHI, WS, and\n",
    "# temperatures to visualize the frequency distribution of these variables.\n",
    "\n",
    "\n",
    "# Histograms for Solar Radiation Variables (GHI, DNI, DHI)\n",
    "solar_radiation_variables = ['GHI', 'DNI', 'DHI']\n",
    "\n",
    "plt.figure(figsize=(8, 4))\n",
    "\n",
    "for var in solar_radiation_variables:\n",
    "    sns.histplot(data[var], bins=20, kde=True, label=var)\n",
    "    \n",
    "plt.title('Histograms of Solar Radiation Variables')\n",
    "plt.xlabel('Solar Radiation (W/m²)')\n",
    "plt.ylabel('Frequency')\n",
    "plt.legend()\n",
    "plt.show()\n",
    "\n",
    "# Histogram for Wind Speed (WS)\n",
    "plt.figure(figsize=(8, 6))\n",
    "sns.histplot(data['WS'], bins=20, kde=True)\n",
    "plt.title('Histogram of Wind Speed')\n",
    "plt.xlabel('Wind Speed (m/s)')\n",
    "plt.ylabel('Frequency')\n",
    "plt.show()\n",
    "\n",
    "# Histograms for Temperatures (Tamb, TModA, TModB)\n",
    "temperature_variables = ['Tamb', 'TModA', 'TModB']\n",
    "plt.figure(figsize=(8, 4))\n",
    "for var in temperature_variables:\n",
    "    sns.histplot(data[var], bins=20, kde=True, label=var)\n",
    "plt.title('Histograms of Temperature Variables')\n",
    "plt.xlabel('Temperature (°C)')\n",
    "plt.ylabel('Frequency')\n",
    "plt.legend()\n",
    "plt.show()"
   ]
  },
  {
   "cell_type": "code",
   "execution_count": null,
   "metadata": {},
   "outputs": [],
   "source": [
    "# Box Plots: to examine the spread and presence of outliers in\n",
    "# the solar radiation and temperature data.\n",
    "\n",
    "\n",
    "plt.figure(figsize=(8, 6))\n",
    "\n",
    "# Solar Radiation Variables\n",
    "plt.subplot(2, 1, 1)\n",
    "sns.boxplot(data=df[['GHI', 'DNI', 'DHI']])\n",
    "plt.title('Box Plot of Solar Radiation Variables')\n",
    "plt.ylabel('Solar Radiation in W/m²')\n",
    "\n",
    "# Temperature Variables\n",
    "plt.subplot(2, 1, 2)\n",
    "sns.boxplot(data=df[['Tamb', 'TModA', 'TModB']])\n",
    "plt.title('Box Plot of Temperature Variables')\n",
    "plt.ylabel('Temperature (°C)')\n",
    "\n",
    "plt.tight_layout()\n",
    "plt.show()\n",
    "\n"
   ]
  },
  {
   "cell_type": "code",
   "execution_count": null,
   "metadata": {},
   "outputs": [],
   "source": [
    "# Scatter Plots:\n",
    "\n",
    "# Scatter plot: GHI vs. Tamb\n",
    "plt.figure(figsize=(6, 4))\n",
    "sns.scatterplot(x='GHI', y='Tamb', data=df)\n",
    "plt.title('Scatter Plot: GHI vs. Tamb')\n",
    "plt.xlabel('GHI in W/m²')\n",
    "plt.ylabel('Tamb (°C)')\n",
    "plt.show()\n",
    "\n",
    "# Scatter plot: WS vs. WSgust\n",
    "plt.figure(figsize=(6, 4))\n",
    "sns.scatterplot(x='WS', y='WSgust', data=df)\n",
    "plt.title('Scatter Plot: WS vs. WSgust')\n",
    "plt.xlabel('Wind Speed in m/s ')\n",
    "plt.ylabel('Max Wind Gust Speed in m/s ')\n",
    "plt.show()"
   ]
  },
  {
   "cell_type": "code",
   "execution_count": null,
   "metadata": {},
   "outputs": [],
   "source": [
    "\n",
    "#remove rows with missing values in the 'Comments' column\n",
    "df.dropna(inplace=True)\n",
    "print(\"Cleaned Data Shape:\", df.shape)"
   ]
  },
  {
   "cell_type": "code",
   "execution_count": null,
   "metadata": {},
   "outputs": [],
   "source": [
    "df.info()"
   ]
  },
  {
   "cell_type": "code",
   "execution_count": null,
   "metadata": {},
   "outputs": [],
   "source": [
    "df.isnull().sum()"
   ]
  }
 ],
 "metadata": {
  "kernelspec": {
   "display_name": "Python 3 (ipykernel)",
   "language": "python",
   "name": "python3"
  },
  "language_info": {
   "codemirror_mode": {
    "name": "ipython",
    "version": 3
   },
   "file_extension": ".py",
   "mimetype": "text/x-python",
   "name": "python",
   "nbconvert_exporter": "python",
   "pygments_lexer": "ipython3",
   "version": "3.10.12"
  }
 },
 "nbformat": 4,
 "nbformat_minor": 4
}
